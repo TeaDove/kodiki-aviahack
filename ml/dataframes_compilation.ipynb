{
 "cells": [
  {
   "cell_type": "code",
   "execution_count": 1,
   "id": "79576ce7",
   "metadata": {},
   "outputs": [],
   "source": [
    "import pandas as pd\n",
    "import numpy as np\n",
    "from typing import Optional\n",
    "from datetime import date\n",
    "import math\n",
    "import pickle\n",
    "from dataclasses import asdict, dataclass"
   ]
  },
  {
   "cell_type": "code",
   "execution_count": 74,
   "id": "18d19ce9",
   "metadata": {},
   "outputs": [],
   "source": [
    "# Удалить Дата исполнения заказа/договора* Месяц Год Дата поставки SWAP Эрикссон\n",
    "expected_april = pd.read_excel('4.Ожидаемые поставки_Апрель2021.xlsx', header=3, sheet_name=0) #.drop(['Дата исполнения заказа/договора*', 'Месяц', 'Год', 'Дата поставки SWAP Эрикссон'], axis=1)\n",
    "expected_april_set = set(expected_april.columns)"
   ]
  },
  {
   "cell_type": "code",
   "execution_count": 75,
   "id": "2628f3e5",
   "metadata": {},
   "outputs": [],
   "source": [
    "# Удалить длина-высота-ширина\n",
    "expected_december = pd.read_excel('4.Ожидаемые поставки_Декабрь2020.xlsx', header=0, sheet_name=1) #.drop(['Длина', 'Ширина', 'Высота'], axis=1)\n",
    "expected_december_set = set(expected_december.columns)"
   ]
  },
  {
   "cell_type": "code",
   "execution_count": 76,
   "id": "57af35c7",
   "metadata": {},
   "outputs": [],
   "source": [
    "expected_january = pd.read_excel('4.Ожидаемые поставки_Январь2021.xlsx', header=0, sheet_name=1, skipfooter=7) #.drop(['Дата исполнения заказа/договора', 'Месяц', 'Год', 'Длина', 'Ширина', 'Высота'], axis=1)\n",
    "expected_january_set = set(expected_january.columns)"
   ]
  },
  {
   "cell_type": "code",
   "execution_count": 86,
   "id": "f7ca4d66",
   "metadata": {},
   "outputs": [],
   "source": [
    "intersected = expected_april_set & expected_december_set & expected_january_set\n",
    "expected_april = expected_april[intersected]\n",
    "expected_december = expected_december[intersected]\n",
    "expected_january = expected_january[intersected]"
   ]
  },
  {
   "cell_type": "code",
   "execution_count": 89,
   "id": "abc4da15",
   "metadata": {},
   "outputs": [],
   "source": [
    "concated_df = pd.concat([expected_april, expected_december, expected_january], axis=0, ignore_index=True)\n",
    "with open('concated_df.pkl', 'wb') as f:\n",
    "    pickle.dump(concated_df, f)"
   ]
  }
 ],
 "metadata": {
  "kernelspec": {
   "display_name": "Python 3 (ipykernel)",
   "language": "python",
   "name": "python3"
  },
  "language_info": {
   "codemirror_mode": {
    "name": "ipython",
    "version": 3
   },
   "file_extension": ".py",
   "mimetype": "text/x-python",
   "name": "python",
   "nbconvert_exporter": "python",
   "pygments_lexer": "ipython3",
   "version": "3.8.9"
  }
 },
 "nbformat": 4,
 "nbformat_minor": 5
}
